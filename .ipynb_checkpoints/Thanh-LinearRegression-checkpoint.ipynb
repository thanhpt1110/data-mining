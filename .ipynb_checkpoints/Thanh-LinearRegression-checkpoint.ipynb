{
 "cells": [
  {
   "cell_type": "markdown",
   "id": "50b9a87b-481a-46be-9e4b-16efff0aaa67",
   "metadata": {},
   "source": [
    "# Linear Regression Model"
   ]
  },
  {
   "cell_type": "markdown",
   "id": "09284e32-99de-45bd-90d4-c1a928201e26",
   "metadata": {},
   "source": [
    "## 1. Import libraries"
   ]
  },
  {
   "cell_type": "code",
   "execution_count": 1,
   "id": "3e571418-dad2-4a22-957f-4ea11bb43748",
   "metadata": {},
   "outputs": [],
   "source": [
    "import pandas as pd\n",
    "from sklearn.model_selection import train_test_split\n",
    "import matplotlib.pyplot as plt"
   ]
  },
  {
   "cell_type": "markdown",
   "id": "e6d5b1dd-1510-46ca-99c4-587dc6bdd023",
   "metadata": {},
   "source": [
    "## 2. Đọc Dataset và chia data thành 2 bộ train và test"
   ]
  },
  {
   "cell_type": "code",
   "execution_count": 2,
   "id": "862caf73-ccdb-45a9-bb55-9e11242c7b73",
   "metadata": {},
   "outputs": [
    {
     "name": "stdout",
     "output_type": "stream",
     "text": [
      "Shape of data train (1832, 5)\n",
      "Shape of data test (458, 5)\n"
     ]
    }
   ],
   "source": [
    "# Đọc dữ liệu từ file CSV, lấy các cột cần thiết và phân tích cột 'Date' làm chỉ mục\n",
    "df = pd.read_csv('./Data/gld_price_data.csv', index_col='Date', parse_dates=True, usecols=['Date', 'SPX', 'GLD', 'USO', 'SLV', 'EUR/USD'])\n",
    "df.sort_values(by='Date', ascending=True, inplace=True)\n",
    "df.reset_index(inplace=True)\n",
    "\n",
    "# Loại bỏ các dòng có giá trị thiếu (NaN) trong dữ liệu\n",
    "df = df.dropna()\n",
    "\n",
    "# Tách dữ liệu thành train_data và test_data theo tỉ lệ 80:20\n",
    "train_data, test_data = train_test_split(df, test_size=0.2, shuffle=False)\n",
    "\n",
    "# In kích thước của tập dữ liệu huấn luyện\n",
    "print('Shape of data train', train_data.shape)\n",
    "\n",
    "# In kích thước của tập dữ liệu kiểm tra\n",
    "print('Shape of data test', test_data.shape)\n",
    "\n",
    "# Tách biến mục tiêu 'GLD' từ tập dữ liệu huấn luyện\n",
    "y_train = train_data['GLD']\n",
    "y_test = test_data['GLD']\n",
    "\n",
    "# Tách các biến đầu vào (features) từ tập dữ liệu huấn luyện, loại bỏ cột 'GLD'\n",
    "X_train = train_data.drop(columns=['GLD', 'Date'])\n",
    "X_test = test_data.drop(columns=['GLD', 'Date'])"
   ]
  },
  {
   "cell_type": "markdown",
   "id": "28ae1d24-4936-412f-971b-7d10f9013bd6",
   "metadata": {},
   "source": [
    "## 3. Dataset overview"
   ]
  },
  {
   "cell_type": "code",
   "execution_count": 3,
   "id": "a03b3e11-6807-40a6-977d-a74d2b29e5a2",
   "metadata": {},
   "outputs": [
    {
     "ename": "KeyError",
     "evalue": "'Date'",
     "output_type": "error",
     "traceback": [
      "\u001b[1;31m---------------------------------------------------------------------------\u001b[0m",
      "\u001b[1;31mKeyError\u001b[0m                                  Traceback (most recent call last)",
      "File \u001b[1;32m~\\.conda\\envs\\lab-data-mining\\Lib\\site-packages\\pandas\\core\\indexes\\base.py:3805\u001b[0m, in \u001b[0;36mIndex.get_loc\u001b[1;34m(self, key)\u001b[0m\n\u001b[0;32m   3804\u001b[0m \u001b[38;5;28;01mtry\u001b[39;00m:\n\u001b[1;32m-> 3805\u001b[0m     \u001b[38;5;28;01mreturn\u001b[39;00m \u001b[38;5;28mself\u001b[39m\u001b[38;5;241m.\u001b[39m_engine\u001b[38;5;241m.\u001b[39mget_loc(casted_key)\n\u001b[0;32m   3806\u001b[0m \u001b[38;5;28;01mexcept\u001b[39;00m \u001b[38;5;167;01mKeyError\u001b[39;00m \u001b[38;5;28;01mas\u001b[39;00m err:\n",
      "File \u001b[1;32mindex.pyx:167\u001b[0m, in \u001b[0;36mpandas._libs.index.IndexEngine.get_loc\u001b[1;34m()\u001b[0m\n",
      "File \u001b[1;32mindex.pyx:196\u001b[0m, in \u001b[0;36mpandas._libs.index.IndexEngine.get_loc\u001b[1;34m()\u001b[0m\n",
      "File \u001b[1;32mpandas\\\\_libs\\\\hashtable_class_helper.pxi:7081\u001b[0m, in \u001b[0;36mpandas._libs.hashtable.PyObjectHashTable.get_item\u001b[1;34m()\u001b[0m\n",
      "File \u001b[1;32mpandas\\\\_libs\\\\hashtable_class_helper.pxi:7089\u001b[0m, in \u001b[0;36mpandas._libs.hashtable.PyObjectHashTable.get_item\u001b[1;34m()\u001b[0m\n",
      "\u001b[1;31mKeyError\u001b[0m: 'Date'",
      "\nThe above exception was the direct cause of the following exception:\n",
      "\u001b[1;31mKeyError\u001b[0m                                  Traceback (most recent call last)",
      "Cell \u001b[1;32mIn[3], line 5\u001b[0m\n\u001b[0;32m      2\u001b[0m plt\u001b[38;5;241m.\u001b[39mfigure(figsize\u001b[38;5;241m=\u001b[39m(\u001b[38;5;241m15\u001b[39m, \u001b[38;5;241m6\u001b[39m), dpi\u001b[38;5;241m=\u001b[39m\u001b[38;5;241m150\u001b[39m)\n\u001b[0;32m      4\u001b[0m \u001b[38;5;66;03m# Vẽ biểu đồ cho tập huấn luyện (train)\u001b[39;00m\n\u001b[1;32m----> 5\u001b[0m plt\u001b[38;5;241m.\u001b[39mplot(train_data[\u001b[38;5;124m'\u001b[39m\u001b[38;5;124mDate\u001b[39m\u001b[38;5;124m'\u001b[39m], y_train, label\u001b[38;5;241m=\u001b[39m\u001b[38;5;124m'\u001b[39m\u001b[38;5;124mTrain Data\u001b[39m\u001b[38;5;124m'\u001b[39m)\n\u001b[0;32m      7\u001b[0m \u001b[38;5;66;03m# Vẽ biểu đồ cho tập kiểm tra (test)\u001b[39;00m\n\u001b[0;32m      8\u001b[0m plt\u001b[38;5;241m.\u001b[39mplot(test_data[\u001b[38;5;124m'\u001b[39m\u001b[38;5;124mDate\u001b[39m\u001b[38;5;124m'\u001b[39m], y_test, label\u001b[38;5;241m=\u001b[39m\u001b[38;5;124m'\u001b[39m\u001b[38;5;124mTest Data\u001b[39m\u001b[38;5;124m'\u001b[39m)\n",
      "File \u001b[1;32m~\\.conda\\envs\\lab-data-mining\\Lib\\site-packages\\pandas\\core\\frame.py:4102\u001b[0m, in \u001b[0;36mDataFrame.__getitem__\u001b[1;34m(self, key)\u001b[0m\n\u001b[0;32m   4100\u001b[0m \u001b[38;5;28;01mif\u001b[39;00m \u001b[38;5;28mself\u001b[39m\u001b[38;5;241m.\u001b[39mcolumns\u001b[38;5;241m.\u001b[39mnlevels \u001b[38;5;241m>\u001b[39m \u001b[38;5;241m1\u001b[39m:\n\u001b[0;32m   4101\u001b[0m     \u001b[38;5;28;01mreturn\u001b[39;00m \u001b[38;5;28mself\u001b[39m\u001b[38;5;241m.\u001b[39m_getitem_multilevel(key)\n\u001b[1;32m-> 4102\u001b[0m indexer \u001b[38;5;241m=\u001b[39m \u001b[38;5;28mself\u001b[39m\u001b[38;5;241m.\u001b[39mcolumns\u001b[38;5;241m.\u001b[39mget_loc(key)\n\u001b[0;32m   4103\u001b[0m \u001b[38;5;28;01mif\u001b[39;00m is_integer(indexer):\n\u001b[0;32m   4104\u001b[0m     indexer \u001b[38;5;241m=\u001b[39m [indexer]\n",
      "File \u001b[1;32m~\\.conda\\envs\\lab-data-mining\\Lib\\site-packages\\pandas\\core\\indexes\\base.py:3812\u001b[0m, in \u001b[0;36mIndex.get_loc\u001b[1;34m(self, key)\u001b[0m\n\u001b[0;32m   3807\u001b[0m     \u001b[38;5;28;01mif\u001b[39;00m \u001b[38;5;28misinstance\u001b[39m(casted_key, \u001b[38;5;28mslice\u001b[39m) \u001b[38;5;129;01mor\u001b[39;00m (\n\u001b[0;32m   3808\u001b[0m         \u001b[38;5;28misinstance\u001b[39m(casted_key, abc\u001b[38;5;241m.\u001b[39mIterable)\n\u001b[0;32m   3809\u001b[0m         \u001b[38;5;129;01mand\u001b[39;00m \u001b[38;5;28many\u001b[39m(\u001b[38;5;28misinstance\u001b[39m(x, \u001b[38;5;28mslice\u001b[39m) \u001b[38;5;28;01mfor\u001b[39;00m x \u001b[38;5;129;01min\u001b[39;00m casted_key)\n\u001b[0;32m   3810\u001b[0m     ):\n\u001b[0;32m   3811\u001b[0m         \u001b[38;5;28;01mraise\u001b[39;00m InvalidIndexError(key)\n\u001b[1;32m-> 3812\u001b[0m     \u001b[38;5;28;01mraise\u001b[39;00m \u001b[38;5;167;01mKeyError\u001b[39;00m(key) \u001b[38;5;28;01mfrom\u001b[39;00m \u001b[38;5;21;01merr\u001b[39;00m\n\u001b[0;32m   3813\u001b[0m \u001b[38;5;28;01mexcept\u001b[39;00m \u001b[38;5;167;01mTypeError\u001b[39;00m:\n\u001b[0;32m   3814\u001b[0m     \u001b[38;5;66;03m# If we have a listlike key, _check_indexing_error will raise\u001b[39;00m\n\u001b[0;32m   3815\u001b[0m     \u001b[38;5;66;03m#  InvalidIndexError. Otherwise we fall through and re-raise\u001b[39;00m\n\u001b[0;32m   3816\u001b[0m     \u001b[38;5;66;03m#  the TypeError.\u001b[39;00m\n\u001b[0;32m   3817\u001b[0m     \u001b[38;5;28mself\u001b[39m\u001b[38;5;241m.\u001b[39m_check_indexing_error(key)\n",
      "\u001b[1;31mKeyError\u001b[0m: 'Date'"
     ]
    },
    {
     "data": {
      "text/plain": [
       "<Figure size 2250x900 with 0 Axes>"
      ]
     },
     "metadata": {},
     "output_type": "display_data"
    }
   ],
   "source": [
    "# Thiết lập kích thước biểu đồ với chiều rộng full (ví dụ 15 inch)\n",
    "plt.figure(figsize=(15, 6), dpi=150)\n",
    "\n",
    "# Vẽ biểu đồ cho tập huấn luyện (train)\n",
    "plt.plot(train_data['Date'], y_train, label='Train Data')\n",
    "\n",
    "# Vẽ biểu đồ cho tập kiểm tra (test)\n",
    "plt.plot(test_data['Date'], y_test, label='Test Data')\n",
    "\n",
    "# Thêm tiêu đề và nhãn\n",
    "plt.title('Gold Price - Train & Test Data')\n",
    "plt.xlabel('Date')\n",
    "plt.ylabel('Gold Price')\n",
    "\n",
    "# Chú thích\n",
    "plt.legend()\n",
    "\n",
    "# Hiển thị biểu đồ\n",
    "plt.grid(color='white')\n",
    "plt.show()"
   ]
  },
  {
   "cell_type": "markdown",
   "id": "6bf67303-9ad8-4fdd-89c1-55daafbbfb45",
   "metadata": {},
   "source": [
    "## 4. Thông tin chi tiết của tập Train và Test"
   ]
  },
  {
   "cell_type": "code",
   "execution_count": null,
   "id": "d744ac82-c905-4cfd-bfe4-d5e2a85e420e",
   "metadata": {},
   "outputs": [],
   "source": [
    "train_data.info()\n",
    "test_data.info()"
   ]
  },
  {
   "cell_type": "markdown",
   "id": "bf1c09c2-713d-4bfe-8462-0a7faa4e98ce",
   "metadata": {},
   "source": [
    "### 5. Khởi tạo và huấn luyện mô hình Linear Regression"
   ]
  },
  {
   "cell_type": "code",
   "execution_count": null,
   "id": "1b7e9db4-8851-4161-9cbd-24937f12c83a",
   "metadata": {},
   "outputs": [],
   "source": [
    "from sklearn.metrics import mean_absolute_error, mean_squared_error, r2_score\n",
    "from sklearn.linear_model import LinearRegression\n",
    "import numpy as np\n",
    "\n",
    "# Khởi tạo và train mô hình\n",
    "model = LinearRegression()\n",
    "fit_model = model.fit(X_train, y_train)"
   ]
  },
  {
   "cell_type": "markdown",
   "id": "82c278fe-8dc3-45b6-b93e-5b0c3509ea2d",
   "metadata": {},
   "source": [
    "### 6. Dự đoán và tính toán các độ đo"
   ]
  },
  {
   "cell_type": "code",
   "execution_count": null,
   "id": "b584651e-fcc8-4115-ab8a-6ff1fb6e6d78",
   "metadata": {},
   "outputs": [],
   "source": [
    "# Dự đoán\n",
    "y_pred = fit_model.predict(X_test)\n",
    "y_true = y_test.values\n",
    "\n",
    "# Mean Absolute Error (MAE)\n",
    "mae = mean_absolute_error(y_true, y_pred)\n",
    "# Mean Absolute Percentage Error (MAPE)\n",
    "mape = np.mean(np.abs((y_true - y_pred) / y_true)) * 100\n",
    "# Root Mean Squared Error (RMSE)\n",
    "rmse = np.sqrt(mean_squared_error(y_true, y_pred))\n",
    "# Accuracy\n",
    "accuracy = 100 - mape\n",
    "\n",
    "print(f\"MAE: {mae}\")\n",
    "print(f\"MAPE: {mape}%\")\n",
    "print(f\"RMSE: {rmse}\")\n",
    "print(f\"Accuracy: {accuracy}%\")"
   ]
  },
  {
   "cell_type": "markdown",
   "id": "afd817ba-8e74-447c-b69f-d67e08ee382c",
   "metadata": {},
   "source": [
    "### 7. Biểu đồ dự đoán của mô hình"
   ]
  },
  {
   "cell_type": "code",
   "execution_count": null,
   "id": "e402f853-1887-4f9b-8a74-fbfca47008e6",
   "metadata": {},
   "outputs": [],
   "source": [
    "plt.figure(figsize=(15, 6), dpi=150)\n",
    "plt.rc('axes', edgecolor='white')\n",
    "\n",
    "# Vẽ dữ liệu huấn luyện\n",
    "plt.plot(train_data['Date'], y_train.values, color='black', lw=2)\n",
    "\n",
    "# Vẽ dữ liệu thực tế của tập kiểm tra\n",
    "plt.plot(test_data['Date'], y_test, color='blue', lw=2)\n",
    "\n",
    "# Vẽ dữ liệu dự đoán từ mô hình ETS\n",
    "plt.plot(test_data['Date'], y_pred, label='Dữ liệu dự đoán', color='red')\n",
    "\n",
    "# Tiêu đề và nhãn\n",
    "plt.title('Hiệu suất mô hình dự đoán giá vàng với Linear Regression', fontsize=15)\n",
    "plt.xlabel('Date', fontsize=12)\n",
    "plt.ylabel('Price', fontsize=12)\n",
    "\n",
    "# Chú thích\n",
    "plt.legend(['Dữ liệu huấn luyện', 'Dữ liệu thực tế', 'Dữ liệu dự đoán'], loc='upper left', prop={'size': 15})\n",
    "plt.grid(color='black')\n",
    "plt.show()"
   ]
  }
 ],
 "metadata": {
  "kernelspec": {
   "display_name": "Python 3 (lab-data-mining)",
   "language": "python",
   "name": "lab-data-mining"
  },
  "language_info": {
   "codemirror_mode": {
    "name": "ipython",
    "version": 3
   },
   "file_extension": ".py",
   "mimetype": "text/x-python",
   "name": "python",
   "nbconvert_exporter": "python",
   "pygments_lexer": "ipython3",
   "version": "3.12.3"
  }
 },
 "nbformat": 4,
 "nbformat_minor": 5
}
